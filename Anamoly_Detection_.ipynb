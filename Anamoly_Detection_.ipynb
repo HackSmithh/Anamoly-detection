{
  "nbformat": 4,
  "nbformat_minor": 0,
  "metadata": {
    "colab": {
      "provenance": []
    },
    "kernelspec": {
      "name": "python3",
      "display_name": "Python 3"
    },
    "language_info": {
      "name": "python"
    }
  },
  "cells": [
    {
      "cell_type": "code",
      "execution_count": 29,
      "metadata": {
        "colab": {
          "base_uri": "https://localhost:8080/"
        },
        "id": "eCVGr0MsC3a6",
        "outputId": "a2d4dbe3-a1bb-4b6c-a627-71016a0446da"
      },
      "outputs": [
        {
          "output_type": "stream",
          "name": "stdout",
          "text": [
            "Error reading CSV: Error tokenizing data. C error: Expected 1505 fields in line 645, saw 2044\n",
            "\n"
          ]
        },
        {
          "output_type": "stream",
          "name": "stderr",
          "text": [
            "<ipython-input-29-e61b367ee5ee>:9: DtypeWarning: Columns (102,104,141,159,161,264,266,312,314,324,326,425,427,567,569,570,572,601,603,737,739,814,816,831,832,833,834,835,837,888,890,892,893,895,897,899,902,904,906,926,928,973,975,977,979,980,982,1000,1002,1046,1048,1051,1053,1071,1073,1115,1117,1126,1128,1130,1192,1194,1198,1200,1204,1206,1209,1211,1242,1244,1253,1255,1261,1262,1263,1264,1276,1278,1282,1284,1286,1288,1289,1291,1327,1329,1350,1352,1404,1406,1410,1412,1415,1417,1420,1422,1424,1450,1452) have mixed types. Specify dtype option on import or set low_memory=False.\n",
            "  dataset = pd.read_csv(\"/content/Payload_data_UNSW.csv\", on_bad_lines='skip')\n"
          ]
        },
        {
          "output_type": "stream",
          "name": "stdout",
          "text": [
            "CSV loaded with problematic lines skipped.\n"
          ]
        }
      ],
      "source": [
        "import pandas as pd\n",
        "\n",
        "# Load the dataset, handling potential errors\n",
        "try:\n",
        "    dataset = pd.read_csv(\"/content/Payload_data_UNSW.csv\")\n",
        "except pd.errors.ParserError as e:\n",
        "    print(f\"Error reading CSV: {e}\")\n",
        "    # Attempt reading with error_bad_lines to skip problematic lines\n",
        "    dataset = pd.read_csv(\"/content/Payload_data_UNSW.csv\", on_bad_lines='skip')\n",
        "    print(\"CSV loaded with problematic lines skipped.\")"
      ]
    },
    {
      "cell_type": "code",
      "source": [
        "print(dataset.head())  # Display the first few rows\n",
        "print(dataset.info())  # Show dataset summary"
      ],
      "metadata": {
        "colab": {
          "base_uri": "https://localhost:8080/"
        },
        "id": "8uZqXzSdLIEH",
        "outputId": "82db676c-5d19-4a9d-ba79-9eb76567e9f4"
      },
      "execution_count": 31,
      "outputs": [
        {
          "output_type": "stream",
          "name": "stdout",
          "text": [
            "   payload_byte_1  payload_byte_2  payload_byte_3  payload_byte_4  \\\n",
            "0              66              80              83              33   \n",
            "1              66              80              83              33   \n",
            "2              66              80              83              33   \n",
            "3              66              80              83              33   \n",
            "4              66              80              83              33   \n",
            "\n",
            "   payload_byte_5  payload_byte_6  payload_byte_7  payload_byte_8  \\\n",
            "0              32              55              98              32   \n",
            "1              32              53              52              32   \n",
            "2              32              57              32              66   \n",
            "3              32              56              51              32   \n",
            "4              32              57              32              66   \n",
            "\n",
            "   payload_byte_9  payload_byte_10  ...  payload_byte_1496  payload_byte_1497  \\\n",
            "0              66               80  ...                0.0                0.0   \n",
            "1              66               80  ...                0.0                0.0   \n",
            "2              80               83  ...                0.0                0.0   \n",
            "3              66               80  ...                0.0                0.0   \n",
            "4              80               83  ...                0.0                0.0   \n",
            "\n",
            "   payload_byte_1498  payload_byte_1499  payload_byte_1500    ttl  total_len  \\\n",
            "0                0.0                0.0                0.0  254.0      100.0   \n",
            "1                0.0                0.0                0.0  254.0      100.0   \n",
            "2                0.0                0.0                0.0  254.0       90.0   \n",
            "3                0.0                0.0                0.0  254.0      100.0   \n",
            "4                0.0                0.0                0.0  254.0       90.0   \n",
            "\n",
            "   protocol   t_delta     label  \n",
            "0    others  0.000010  analysis  \n",
            "1    others  0.000005  analysis  \n",
            "2    others  0.000008  analysis  \n",
            "3      pipe  0.000004  analysis  \n",
            "4    others  0.000003  analysis  \n",
            "\n",
            "[5 rows x 1505 columns]\n",
            "<class 'pandas.core.frame.DataFrame'>\n",
            "RangeIndex: 97168 entries, 0 to 97167\n",
            "Columns: 1505 entries, payload_byte_1 to label\n",
            "dtypes: float64(1303), int64(101), object(101)\n",
            "memory usage: 1.1+ GB\n",
            "None\n"
          ]
        }
      ]
    },
    {
      "cell_type": "code",
      "source": [
        "# Compute mean for numeric columns only\n",
        "mean_values = dataset.select_dtypes(include=['number']).mean()\n",
        "\n",
        "# Compute standard deviation for numeric columns only\n",
        "std_values = dataset.select_dtypes(include=['number']).std()\n",
        "\n",
        "print(\"Mean Values:\\n\", mean_values)\n",
        "print(\"\\nStandard Deviation Values:\\n\", std_values)"
      ],
      "metadata": {
        "colab": {
          "base_uri": "https://localhost:8080/"
        },
        "id": "5G0SrTsUTX9E",
        "outputId": "b63d4a42-f18d-4909-d42c-a3ff60a9b67b"
      },
      "execution_count": 38,
      "outputs": [
        {
          "output_type": "stream",
          "name": "stdout",
          "text": [
            "Mean Values:\n",
            " payload_byte_1       101.133141\n",
            "payload_byte_2        71.014501\n",
            "payload_byte_3        56.673781\n",
            "payload_byte_4        54.789643\n",
            "payload_byte_5        42.191617\n",
            "                        ...    \n",
            "payload_byte_1499      0.000000\n",
            "payload_byte_1500      0.000000\n",
            "ttl                  172.809195\n",
            "total_len            293.231499\n",
            "t_delta                0.000010\n",
            "Length: 1404, dtype: float64\n",
            "\n",
            "Standard Deviation Values:\n",
            " payload_byte_1        77.016305\n",
            "payload_byte_2        66.458094\n",
            "payload_byte_3        64.992488\n",
            "payload_byte_4        66.605245\n",
            "payload_byte_5        64.014445\n",
            "                        ...    \n",
            "payload_byte_1499      0.000000\n",
            "payload_byte_1500      0.000000\n",
            "ttl                  105.418584\n",
            "total_len            444.707433\n",
            "t_delta                0.000197\n",
            "Length: 1404, dtype: float64\n"
          ]
        }
      ]
    },
    {
      "cell_type": "code",
      "source": [
        "import pandas as pd\n",
        "import matplotlib.pyplot as plt\n",
        "\n",
        "# Load the dataset (update the path to your actual CSV file)\n",
        "file_path = \"/content/Payload_data_UNSW.csv\"  # Changed to a string literal\n",
        "df = pd.read_csv(file_path)\n",
        "\n",
        "# Display column names for reference\n",
        "print(\"Available Columns:\", df.columns)\n",
        "\n",
        "# Define the target IP address\n",
        "target_ip = \"2409:40f4:3007:dc19:8000::\"\n",
        "\n",
        "# Ensure 'IP_Address' is the correct column name\n",
        "if \"IP_Address\" in df.columns:\n",
        "    # Filter data for the specific IP address\n",
        "    ip_address_data = df[df[\"IP_Address\"] == target_ip]\n",
        "\n",
        "    # Check if 'Packet_Size' column exists before plotting\n",
        "    if \"Packet_Size\" in df.columns and not ip_address_data.empty:\n",
        "        plt.hist(ip_address_data[\"Packet_Size\"], bins=50, color='blue', alpha=0.7)\n",
        "        plt.xlabel(\"Packet Size\")\n",
        "        plt.ylabel(\"Frequency\")\n",
        "        plt.title(f\"Distribution of Packet Size for {target_ip}\")\n",
        "        plt.show()\n",
        "    else:\n",
        "        print(\"Column 'Packet_Size' not found or no data for the given IP.\")\n",
        "\n",
        "else:\n",
        "    print(\"Column 'IP_Address' not found in dataset.\")\n",
        "\n",
        "# Histogram for 'Request Frequency' (check column existence)\n",
        "if \"Request Frequency\" in df.columns:\n",
        "    plt.hist(df[\"Request Frequency\"], bins=50, color='red', alpha=0.7)\n",
        "    plt.xlabel(\"Request Frequency\")\n",
        "    plt.ylabel(\"Frequency\")\n",
        "    plt.title(\"Distribution of Request Frequency\")\n",
        "    plt.show()\n",
        "else:\n",
        "    print(\"Column 'Request Frequency' not found in dataset.\")"
      ],
      "metadata": {
        "colab": {
          "base_uri": "https://localhost:8080/"
        },
        "id": "g035WlV7T1dJ",
        "outputId": "b3388b17-7cb8-43a9-85fa-91dd0225e673"
      },
      "execution_count": 15,
      "outputs": [
        {
          "output_type": "stream",
          "name": "stdout",
          "text": [
            "Available Columns: Index(['payload_byte_1', 'payload_byte_2', 'payload_byte_3', 'payload_byte_4',\n",
            "       'payload_byte_5', 'payload_byte_6', 'payload_byte_7', 'payload_byte_8',\n",
            "       'payload_byte_9', 'payload_byte_10',\n",
            "       ...\n",
            "       'payload_byte_1496', 'payload_byte_1497', 'payload_byte_1498',\n",
            "       'payload_byte_1499', 'payload_byte_1500', 'ttl', 'total_len',\n",
            "       'protocol', 't_delta', 'label'],\n",
            "      dtype='object', length=1505)\n",
            "Column 'IP_Address' not found in dataset.\n",
            "Column 'Request Frequency' not found in dataset.\n"
          ]
        }
      ]
    },
    {
      "cell_type": "code",
      "source": [],
      "metadata": {
        "id": "URUua9stUdhd"
      },
      "execution_count": null,
      "outputs": []
    }
  ]
}